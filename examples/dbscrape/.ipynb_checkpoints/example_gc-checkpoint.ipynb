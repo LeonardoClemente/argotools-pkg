{
 "cells": [
  {
   "cell_type": "markdown",
   "metadata": {},
   "source": [
    "# How to download Google Correlate Data using argotools.dbscrape"
   ]
  },
  {
   "cell_type": "markdown",
   "metadata": {},
   "source": [
    "This is a brief example on how to download data from GC using dbscrape. \n",
    "\n",
    "\n",
    "In order to successfully download data from GC you'll need:\n",
    "\n",
    "1.- A Gmail account, since you'll need to use your log-in credentials to download the data form GC (I usually just use an alternative account I created just for this purpose).\n",
    "\n",
    "2.- chromedriver, a file used by selenium to run an automated browser\n",
    "\n",
    "NOTE: Please make sure you have chrome's webdriver downloaded to use with selenium (specifically chrome. Everything I've worked on has been using the chromedriver) . To know more about selenium please visit their official documentation.\n",
    "\n"
   ]
  },
  {
   "cell_type": "code",
   "execution_count": 1,
   "metadata": {
    "collapsed": true
   },
   "outputs": [],
   "source": [
    "from argotools.dbscrape import GC\n",
    "import pandas as pd\n",
    "import time\n",
    "\n",
    "\n",
    "wb_path = 'absolute_path_to/chromedriver'\n",
    "path_to_csv = 'absolute_path_to/MX.csv'\n"
   ]
  },
  {
   "cell_type": "markdown",
   "metadata": {},
   "source": [
    "We first have to log in, this is how you do it. \n"
   ]
  },
  {
   "cell_type": "code",
   "execution_count": 2,
   "metadata": {},
   "outputs": [
    {
     "name": "stdout",
     "output_type": "stream",
     "text": [
      "Thank you for using DBscrape for google correlate! please use our               \n",
      " read me to see a simple tutorial on how to use it. GCpy opens a              \n",
      " web browser using both Selenium and chrome webdriver libraries. \n",
      "\n",
      "\n",
      "Succesfully initialized  web browser.\n",
      "Logged onto Gmail account.\n"
     ]
    }
   ],
   "source": [
    "#state_names = list(df)\n",
    "session = GC(webdriver_path=wb_path, download_folder=None)\n",
    "session.login(user='myemail@gmail.com', password='mypass')\n"
   ]
  },
  {
   "cell_type": "markdown",
   "metadata": {},
   "source": [
    "When initializing the session object, you'll see two different inputs: webdriver_path and download_folder.\n",
    "webdriver_path is the string containing the path to the web-driver (it is neccessary!). download_folder is an optional input value where you can input the path where your downloads are automatically directed to.\n",
    "\n",
    "download_folder is recommended in case you're downloading more than one file, since the function already contains code to rename the files incoming from GC's website (which usually come with the same name) and avoid confusion.\n",
    "\n",
    "The class will pop-up a message if you were able or unable to log-in.\n",
    "\n",
    "After successfully logging in, you can download data in the following ways: either query one term or upload some personal data. For this example, I present both. \n",
    "\n",
    "### Correlating from a CSV\n",
    "To get data by inputting your own values in a csv, you can use the \"correlate_from_csv\" method.\n",
    "\n",
    "You'll need the following: A csv file containing the values you want to correlate and a country where you want to correlate the data (It must be available in Google Correlate!). I use some influenza data in a csv form (see the file for the format of the data) from Flunet in Mexico and input the file path in the correlate_from_csv method. timeseries_name is an identifier (if you didn't input a download_folder value, I suggest you use a meaningful identifier that lets you differentiate the file from the others). When you finish downloading the data, you'll see it is named \"correlate-<timeseries_name>.csv\". If you chose to input your download_folder, the file will be renamed \"<country>-<timeseries_name>.csv\".\n",
    "\n",
    "NOTE: Google Correlate is really picky when reading data from a CSV, please make sure the csv you use is aligned witht he correct format.\n",
    "NOTE2: To correctly input your CSV data, you MUST set an absolute path to the file. using '.' or '..' does not work because Google Correlate do not recognize your working directory\n"
   ]
  },
  {
   "cell_type": "code",
   "execution_count": 3,
   "metadata": {},
   "outputs": [
    {
     "name": "stdout",
     "output_type": "stream",
     "text": [
      "              0     1\n",
      "0    2010-01-04  1225\n",
      "1    2010-01-11  1168\n",
      "2    2010-01-18  1368\n",
      "3    2010-01-25   970\n",
      "4    2010-02-01  1139\n",
      "5    2010-02-08  1211\n",
      "6    2010-02-15  1274\n",
      "7    2010-02-22  1184\n",
      "8    2010-03-01  1363\n",
      "9    2010-03-08  1017\n",
      "10   2010-03-15   781\n",
      "11   2010-03-22   573\n",
      "12   2010-03-29   443\n",
      "13   2010-04-05   371\n",
      "14   2010-04-12   427\n",
      "15   2010-04-19   316\n",
      "16   2010-04-26   252\n",
      "17   2010-05-03   192\n",
      "18   2010-05-10   164\n",
      "19   2010-05-17   198\n",
      "20   2010-05-24   201\n",
      "21   2010-05-31   201\n",
      "22   2010-06-07   142\n",
      "23   2010-06-14   142\n",
      "24   2010-06-21   138\n",
      "25   2010-06-28   107\n",
      "26   2010-07-05   105\n",
      "27   2010-07-12    87\n",
      "28   2010-07-19   104\n",
      "29   2010-07-26   110\n",
      "..          ...   ...\n",
      "179  2013-06-10   158\n",
      "180  2013-06-17   170\n",
      "181  2013-06-24   163\n",
      "182  2013-07-01   215\n",
      "183  2013-07-08   184\n",
      "184  2013-07-15   215\n",
      "185  2013-07-22   193\n",
      "186  2013-07-29   188\n",
      "187  2013-08-05   217\n",
      "188  2013-08-12   204\n",
      "189  2013-08-19   196\n",
      "190  2013-08-26   224\n",
      "191  2013-09-02   290\n",
      "192  2013-09-09   271\n",
      "193  2013-09-16   354\n",
      "194  2013-09-23   367\n",
      "195  2013-09-30   363\n",
      "196  2013-10-07   330\n",
      "197  2013-10-14   354\n",
      "198  2013-10-21   344\n",
      "199  2013-10-28   346\n",
      "200  2013-11-04   387\n",
      "201  2013-11-11   304\n",
      "202  2013-11-18   446\n",
      "203  2013-11-25   446\n",
      "204  2013-12-02   492\n",
      "205  2013-12-09   577\n",
      "206  2013-12-16   671\n",
      "207  2013-12-23   731\n",
      "208  2013-12-30   979\n",
      "\n",
      "[209 rows x 2 columns]\n",
      "Warning! No default download folder specified. gcpy can't rename correlate file. \n",
      "                           If you're downloading more than one term it might become lost\n",
      "Successfully downloaded data for GC in Mexico\n"
     ]
    }
   ],
   "source": [
    "example_data = pd.read_csv(path_to_csv, header=None)\n",
    "print(example_data)\n",
    "session.correlate_from_csv(path_to_csv=path_to_csv, timeseries_name='GC', country='MX', verbose=False)\n"
   ]
  },
  {
   "cell_type": "markdown",
   "metadata": {},
   "source": [
    "    \n",
    "### Correlating a search term\n",
    "\n",
    "To correlate a search term, you have to call the \"correlate_term\" function. Just input your word in the method and select the country where you want to search similar search-term activity. \n",
    "\n",
    "The method also has the flexibility of specifying the time period on which you'd like to search correlations for your terms (state / edate). Here, I look for the word influenza and search for activity of the word between January 2004 and December 2013. \n",
    "\n",
    "Google Correlate should output a csv file with the influenza search term activity and the top correlated search terms (the correlated terms are not restricted to the time period)\n"
   ]
  },
  {
   "cell_type": "code",
   "execution_count": 4,
   "metadata": {
    "scrolled": true
   },
   "outputs": [
    {
     "name": "stdout",
     "output_type": "stream",
     "text": [
      "Warning! No default download folder specified. gcpy can't rename correlate file. \n",
      "                           If you're downloading more than one term it might become lost\n",
      "Successfully downloaded data for influenza in Mexico\n"
     ]
    }
   ],
   "source": [
    "sdate = '2004-01-04'\n",
    "edate = '2013-12-29'\n",
    "\n",
    "session.correlate_term(search_term='influenza', country='MX', verbose=False, sdate=sdate, edate=edate)\n",
    "\n",
    "\n",
    "session.close_browser()"
   ]
  },
  {
   "cell_type": "markdown",
   "metadata": {},
   "source": [
    "All the files should have been downloaded to your default downloads folder. Lets take a look at them!. Just showing the first rows and columns to avoid clutter "
   ]
  },
  {
   "cell_type": "code",
   "execution_count": 11,
   "metadata": {},
   "outputs": [
    {
     "name": "stdout",
     "output_type": "stream",
     "text": [
      "This is the file you correlated with CSV data: \n",
      "             GC  influenza sintomas  sintomas de la influenza\n",
      "Date                                                        \n",
      "2004-01-04 NaN              -0.216                     -0.27\n",
      "2004-01-11 NaN              -0.216                     -0.27\n",
      "2004-01-18 NaN              -0.216                     -0.27\n",
      "2004-01-25 NaN              -0.216                     -0.27\n",
      "2004-02-01 NaN              -0.216                     -0.27\n",
      "2004-02-08 NaN              -0.216                     -0.27\n",
      "2004-02-15 NaN              -0.216                     -0.27\n",
      "2004-02-22 NaN              -0.216                     -0.27\n",
      "2004-02-29 NaN              -0.216                     -0.27\n",
      "2004-03-07 NaN              -0.216                     -0.27\n",
      "\n",
      " This is the file you correlated using a search term \n",
      "             influenza  virus influenza  virus de influenza\n",
      "Date                                                      \n",
      "2004-01-04     -0.097           -0.098              -0.103\n",
      "2004-01-11     -0.101           -0.098              -0.103\n",
      "2004-01-18     -0.103           -0.098              -0.103\n",
      "2004-01-25     -0.100           -0.098              -0.103\n",
      "2004-02-01     -0.102           -0.098              -0.103\n",
      "2004-02-08     -0.103           -0.098              -0.103\n",
      "2004-02-15     -0.100           -0.098              -0.103\n",
      "2004-02-22     -0.078           -0.098              -0.103\n",
      "2004-02-29     -0.105           -0.098              -0.103\n",
      "2004-03-07     -0.110           -0.098              -0.103\n"
     ]
    }
   ],
   "source": [
    "csv_correlated_file = pd.read_csv('path_to/correlate-GC.csv', skiprows=10, index_col=0)\n",
    "term_correlated_file = pd.read_csv('path_to/correlate-influenza.csv', skiprows=10, index_col=0)\n",
    "\n",
    "print('This is the file you correlated with CSV data: \\n {0}'.format(csv_correlated_file.iloc[0:10,0:3]))\n",
    "print('\\n This is the file you correlated using a search term \\n {0}'.format(term_correlated_file.iloc[0:10,0:3]))"
   ]
  },
  {
   "cell_type": "markdown",
   "metadata": {},
   "source": [
    "And that's it! Please send me any feedback or things you'd like to see automated or tell me if you'd like to contribute to expanding dbscrape. Send an e-mail to leon@clemente.tech"
   ]
  },
  {
   "cell_type": "code",
   "execution_count": null,
   "metadata": {
    "collapsed": true
   },
   "outputs": [],
   "source": []
  }
 ],
 "metadata": {
  "kernelspec": {
   "display_name": "Python 2",
   "language": "python",
   "name": "python2"
  },
  "language_info": {
   "codemirror_mode": {
    "name": "ipython",
    "version": 2
   },
   "file_extension": ".py",
   "mimetype": "text/x-python",
   "name": "python",
   "nbconvert_exporter": "python",
   "pygments_lexer": "ipython2",
   "version": "2.7.10"
  }
 },
 "nbformat": 4,
 "nbformat_minor": 2
}
