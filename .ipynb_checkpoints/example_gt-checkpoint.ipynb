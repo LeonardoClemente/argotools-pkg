{
 "cells": [
  {
   "cell_type": "markdown",
   "metadata": {},
   "source": [
    "# Find Google Trends related queries through Python and argotools"
   ]
  },
  {
   "cell_type": "markdown",
   "metadata": {},
   "source": [
    "This is a brief example on how to download data from Google Trends using dbscrape. \n",
    "\n",
    "\n",
    "In order to successfully download data from Google Trends you'll need:\n",
    "\n",
    "1.- A Gmail account, since you'll need to use your log-in credentials to download the data form GC (I usually just use an alternative account I created just for this purpose).\n",
    "\n",
    "2.- chromedriver, a file used by selenium to run an automated browser\n",
    "\n",
    "NOTE: Please make sure you have chrome's webdriver downloaded to use with selenium (specifically chrome. Everything I've worked on has been using the chromedriver) . To know more about selenium please visit their official documentation.\n",
    "\n"
   ]
  },
  {
   "cell_type": "code",
   "execution_count": 5,
   "metadata": {},
   "outputs": [],
   "source": [
    "import pandas as pd\n",
    "from argotools.dbscrape import GT\n",
    "\n",
    "wb_path = 'your-path-to/chromedriver'"
   ]
  },
  {
   "cell_type": "markdown",
   "metadata": {},
   "source": [
    "We first have to log in, this is how you do it. \n"
   ]
  },
  {
   "cell_type": "code",
   "execution_count": 6,
   "metadata": {},
   "outputs": [
    {
     "name": "stdout",
     "output_type": "stream",
     "text": [
      "Thank you for using DBscrape for Google Trends! please use our               \n",
      " read me to see a simple tutorial on how to use it.\n",
      "Succesfully initialized  web browser.\n",
      "Logged onto Gmail account.\n"
     ]
    }
   ],
   "source": [
    "#state_names = list(df)\n",
    "session = GT(webdriver_path=wb_path, download_folder=None)\n",
    "session.login(user='myemail@gmail.com', password='argotoolsrock')\n"
   ]
  },
  {
   "cell_type": "markdown",
   "metadata": {},
   "source": [
    "### Notes on logging in\n",
    "When initializing the session object, you'll see two different inputs: webdriver_path and download_folder.\n",
    "webdriver_path is the string containing the path to the web-driver (it is neccessary!). download_folder is an optional input value where you can input the path where your downloads are automatically directed to.\n",
    "\n",
    "download_folder is recommended in case you're downloading more than one file, since the function already contains code to rename the files incoming from GT's website (which usually come with the same name) and avoid confusion.\n",
    "\n",
    "The class will pop-up a message if you were able or unable to log-in.\n",
    "\n",
    "After successfully logging in, you can lookup search-terms related to your term of interest.\n",
    "\n",
    "\n",
    "### Find related-queries using Dbscrape\n",
    "Lets say, you're trying to find queries related to influenza because you want to see if there are other search terms that people usually look up that have the same trend.\n",
    "\n",
    "The method that we'll use is called find_relatedqueries. To use these method, you'll need to input the following:\n",
    "\n",
    "1.- A term : In this case, we'll look up the term \"influenza\"\n",
    "2.- The country/region where you want to look the activity on: Google Trends uses an specific code to identify regions, or countries. For example, 'MX' for Mexico, and 'MX-COA' for Coahuila (a state in Mexico). For simplicity, we'll just use the country 'MX'\n",
    "\n",
    "OPTIONAL:\n",
    "\n",
    "3.- Date period: When you look for a term, Google Trends searchs for all the activity they have regarding that term (in that specific location). However, you might want to check the activity within an specific time-frame (For example, looking up influenza and what queries were related to it during the H1N1 Pandemic a few years ago.)\n",
    "\n",
    "\n",
    "Here is how you use it.\n"
   ]
  },
  {
   "cell_type": "code",
   "execution_count": 7,
   "metadata": {},
   "outputs": [
    {
     "name": "stdout",
     "output_type": "stream",
     "text": [
      "Warning! No default download folder specified. gtpy can't rename correlate file. \n",
      "                       If you're downloading more than one term it might become lost\n",
      "Successfully downloaded data for gripe in Mexico\n"
     ]
    }
   ],
   "source": [
    "sdate = '2004-01-04'\n",
    "edate = '2013-12-29'\n",
    "\n",
    "session.find_relatedqueries(search_term='gripe', country='MX', verbose=False, sdate=sdate, edate=edate)\n"
   ]
  },
  {
   "cell_type": "markdown",
   "metadata": {},
   "source": [
    "### Looking at the data\n",
    "\n",
    "If you were successful, you will see a downloaded file with the name 'relatedQueries.csv' in your default downloads folder.\n",
    "\n",
    "Lets print it out. "
   ]
  },
  {
   "cell_type": "code",
   "execution_count": 17,
   "metadata": {
    "scrolled": true
   },
   "outputs": [
    {
     "name": "stdout",
     "output_type": "stream",
     "text": [
      "These queries are correlated to the word influenza in Mexico : \n",
      "                           la gripe       100\n",
      "0                    para la gripe        55\n",
      "1                         remedios        20\n",
      "2                   remedios gripe        20\n",
      "3              remedios para gripe        19\n",
      "4                            gripa        17\n",
      "5           remedios para la gripe        16\n",
      "6           remedios caseros gripe        14\n",
      "7                 remedios caseros        14\n",
      "8                     que es gripe        13\n",
      "9      remedios caseros para gripe        13\n",
      "10  remedios caseros para la gripe        13\n",
      "11                     gripe aviar        12\n",
      "12                 que es la gripe        11\n",
      "13                             tos        11\n",
      "14                  gripe sintomas        10\n",
      "15                        la gripa         9\n",
      "16                   gripe porcina         9\n",
      "17                       influenza         8\n",
      "18               sintomas de gripe         8\n",
      "19                    enfermedades         7\n",
      "20           remedio para la gripe         6\n",
      "21          medicamento para gripe         6\n",
      "22                     virus gripe         6\n",
      "23                    medicamentos         6\n",
      "24                          RISING       NaN\n",
      "25          remedios para la gripe  Breakout\n",
      "26          remedios caseros gripe  Breakout\n",
      "27     remedios caseros para gripe  Breakout\n",
      "28                     gripe aviar  Breakout\n",
      "29                             tos  Breakout\n",
      "30                   gripe porcina  Breakout\n",
      "31           remedio para la gripe  Breakout\n",
      "32          medicamento para gripe  Breakout\n",
      "33                     tengo gripe  Breakout\n",
      "34       medicamento para la gripe  Breakout\n",
      "35                  gripe embarazo  Breakout\n",
      "36                   gripa o gripe  Breakout\n",
      "37                    la influenza  Breakout\n",
      "38               virus de la gripe  Breakout\n",
      "39                  remedio casero  Breakout\n",
      "40         que tomar para la gripe  Breakout\n",
      "41                  la gripe aviar  Breakout\n",
      "42            remedios para la tos  Breakout\n",
      "43    remedio casero para la gripe  Breakout\n",
      "44                          fiebre  Breakout\n",
      "45    remedios caseros para la tos  Breakout\n",
      "46                      bronquitis  Breakout\n",
      "47                 dolor de cabeza  Breakout\n",
      "48                la gripe porcina  Breakout\n",
      "49                  la gripe comun  Breakout\n"
     ]
    }
   ],
   "source": [
    "myqueries = pd.read_csv('your-path-to/relatedQueries.csv',skiprows=4, index_col=None)\n",
    "print('These queries are correlated to the word influenza in Mexico : \\n {0}'.format(myqueries))"
   ]
  },
  {
   "cell_type": "markdown",
   "metadata": {},
   "source": [
    "And that's it! Please send me any feedback or things you'd like to see automated or tell me if you'd like to contribute to expanding dbscrape. Send an e-mail to leon@clemente.tech"
   ]
  },
  {
   "cell_type": "code",
   "execution_count": null,
   "metadata": {
    "collapsed": true
   },
   "outputs": [],
   "source": []
  }
 ],
 "metadata": {
  "kernelspec": {
   "display_name": "Python 3",
   "language": "python",
   "name": "python3"
  },
  "language_info": {
   "codemirror_mode": {
    "name": "ipython",
    "version": 3
   },
   "file_extension": ".py",
   "mimetype": "text/x-python",
   "name": "python",
   "nbconvert_exporter": "python",
   "pygments_lexer": "ipython3",
   "version": "3.6.8"
  }
 },
 "nbformat": 4,
 "nbformat_minor": 2
}
